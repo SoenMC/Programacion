{
 "cells": [
  {
   "cell_type": "code",
   "execution_count": 1,
   "metadata": {},
   "outputs": [
    {
     "name": "stdout",
     "output_type": "stream",
     "text": [
      "Ingrese el nombre Sergio\n",
      "Ingrese nota del primer parcial 5\n",
      "Ingrese nota del segundo parcial 4\n",
      "Ingrese nota del tercer parcial 5\n",
      "Ingrese el total de las inasistencias 6\n",
      "La nota definitiva es \n",
      "4.666666666666667\n",
      "Ganó academicamente\n"
     ]
    }
   ],
   "source": [
    "Nombre=input(\"Ingrese el nombre \")\n",
    "par1=int(input(\"Ingrese nota del primer parcial \"))\n",
    "par2=int(input(\"Ingrese nota del segundo parcial \"))\n",
    "par3=int(input(\"Ingrese nota del tercer parcial \")) \n",
    "tot_InAsis=int(input(\"Ingrese el total de las inasistencias \"))\n",
    "not_def=(par1+par2+par3)/3\n",
    "print(\"La nota definitiva es \")\n",
    "print(not_def)\n",
    "if tot_InAsis<12 and not_def>=3:\n",
    "    print(\"Ganó academicamente\")\n",
    "if tot_InAsis<12 and not_def<3:\n",
    "    print(\"Perdió academicamente\")    \n",
    "if tot_InAsis>12 and not_def==not_def:\n",
    "    print(\"Perdió por inasistencia\")   \n",
    "if tot_InAsis>12 and not_def<3:\n",
    "    print(\"y academicamente\")"
   ]
  },
  {
   "cell_type": "code",
   "execution_count": null,
   "metadata": {},
   "outputs": [],
   "source": []
  }
 ],
 "metadata": {
  "kernelspec": {
   "display_name": "Python 3",
   "language": "python",
   "name": "python3"
  },
  "language_info": {
   "codemirror_mode": {
    "name": "ipython",
    "version": 3
   },
   "file_extension": ".py",
   "mimetype": "text/x-python",
   "name": "python",
   "nbconvert_exporter": "python",
   "pygments_lexer": "ipython3",
   "version": "3.8.5"
  }
 },
 "nbformat": 4,
 "nbformat_minor": 4
}
