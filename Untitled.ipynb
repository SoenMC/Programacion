{
 "cells": [
  {
   "cell_type": "code",
   "execution_count": 10,
   "metadata": {},
   "outputs": [
    {
     "name": "stdout",
     "output_type": "stream",
     "text": [
      "Ingrese el nombre sergio\n",
      "Ingrese nota del primer parcial 5\n",
      "Ingrese nota del segundo parcial 4\n",
      "Ingrese nota del tercer parcial 5\n",
      "Ingrese el total de las inasistencias 6\n",
      "La nota definitiva es \n",
      "4.666666666666667\n"
     ]
    }
   ],
   "source": [
    "par1=35\n",
    "par2=35\n",
    "par3=30\n",
    "Nombre=input(\"Ingrese el nombre \")\n",
    "par1=int(input(\"Ingrese nota del primer parcial \"))\n",
    "par2=int(input(\"Ingrese nota del segundo parcial \"))\n",
    "par3=int(input(\"Ingrese nota del tercer parcial \")) \n",
    "tot_InAsis=int(input(\"Ingrese el total de las inasistencias \"))\n",
    "not_def=(par1+par2+par3)/3\n",
    "print(\"La nota definitiva es \")\n",
    "print(not_def)"
   ]
  },
  {
   "cell_type": "code",
   "execution_count": null,
   "metadata": {},
   "outputs": [],
   "source": []
  },
  {
   "cell_type": "code",
   "execution_count": null,
   "metadata": {},
   "outputs": [],
   "source": []
  }
 ],
 "metadata": {
  "kernelspec": {
   "display_name": "Python 3",
   "language": "python",
   "name": "python3"
  },
  "language_info": {
   "codemirror_mode": {
    "name": "ipython",
    "version": 3
   },
   "file_extension": ".py",
   "mimetype": "text/x-python",
   "name": "python",
   "nbconvert_exporter": "python",
   "pygments_lexer": "ipython3",
   "version": "3.8.5"
  }
 },
 "nbformat": 4,
 "nbformat_minor": 4
}
